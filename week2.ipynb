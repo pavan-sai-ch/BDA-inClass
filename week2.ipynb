{
  "nbformat": 4,
  "nbformat_minor": 0,
  "metadata": {
    "colab": {
      "provenance": [],
      "authorship_tag": "ABX9TyO45eZN9wp0990BjG5bpHDw",
      "include_colab_link": true
    },
    "kernelspec": {
      "name": "python3",
      "display_name": "Python 3"
    },
    "language_info": {
      "name": "python"
    }
  },
  "cells": [
    {
      "cell_type": "markdown",
      "metadata": {
        "id": "view-in-github",
        "colab_type": "text"
      },
      "source": [
        "<a href=\"https://colab.research.google.com/github/pavan-sai-ch/BDA-inClass/blob/main/week2.ipynb\" target=\"_parent\"><img src=\"https://colab.research.google.com/assets/colab-badge.svg\" alt=\"Open In Colab\"/></a>"
      ]
    },
    {
      "cell_type": "code",
      "execution_count": 16,
      "metadata": {
        "colab": {
          "base_uri": "https://localhost:8080/"
        },
        "id": "CEjFrgqHautz",
        "outputId": "3e9dffe1-2edd-4c28-cf88-54b2a7160024"
      },
      "outputs": [
        {
          "output_type": "stream",
          "name": "stdout",
          "text": [
            "htyp\n"
          ]
        }
      ],
      "source": [
        "#task 1, reverse and delete 2 characters\n",
        "text = 'python'\n",
        "text_updated = text[:-2]\n",
        "print(text_updated[::-1])"
      ]
    },
    {
      "cell_type": "code",
      "source": [
        "#task 2, replace strings\n",
        "input_text = \"I love playing with python\"\n",
        "replacing_text = 'pythons'\n",
        "new_text=input_text.replace('python', replacing_text)\n",
        "print(new_text)"
      ],
      "metadata": {
        "colab": {
          "base_uri": "https://localhost:8080/"
        },
        "id": "l_4r6HEDbr9z",
        "outputId": "0f09356d-aeb5-4858-d2ff-b63ce4591594"
      },
      "execution_count": 17,
      "outputs": [
        {
          "output_type": "stream",
          "name": "stdout",
          "text": [
            "I love playing with pythons\n"
          ]
        }
      ]
    },
    {
      "cell_type": "code",
      "source": [
        "#tast 3,\n",
        "score = 90\n",
        "if score>90:\n",
        "  print('A')\n",
        "elif score>80: print('B')\n",
        "elif score>70: print('C')\n",
        "else: print('F')\n"
      ],
      "metadata": {
        "colab": {
          "base_uri": "https://localhost:8080/"
        },
        "id": "o84Jwr2tckgB",
        "outputId": "012ef37f-bc00-4763-ec41-b213771ce127"
      },
      "execution_count": 19,
      "outputs": [
        {
          "output_type": "stream",
          "name": "stdout",
          "text": [
            "B\n"
          ]
        }
      ]
    },
    {
      "cell_type": "code",
      "source": [
        "#task 4\n",
        "x = [23, 'Python', 23.98]\n",
        "list_x = []\n",
        "for _ in x:\n",
        "  list_x.append(type(_))\n",
        "\n",
        "print(x,list_x)"
      ],
      "metadata": {
        "colab": {
          "base_uri": "https://localhost:8080/"
        },
        "id": "BXRQOxUUdIwX",
        "outputId": "386e484f-2d54-47cb-cad4-fc171c99fcb9"
      },
      "execution_count": 20,
      "outputs": [
        {
          "output_type": "stream",
          "name": "stdout",
          "text": [
            "[23, 'Python', 23.98] [<class 'int'>, <class 'str'>, <class 'float'>]\n"
          ]
        }
      ]
    },
    {
      "cell_type": "code",
      "source": [
        "#task 5\n",
        "IT_companies = {'Facebook', 'Google', 'Microsoft', 'Apple', 'IBM', 'Oracle', 'Amazon'}\n",
        "A = {19, 22, 24, 20, 25, 26}\n",
        "B = {19, 22, 20, 25, 26, 24, 28, 27}\n",
        "age = [22, 19, 24, 25, 26, 24, 25, 24]\n",
        "#\n",
        "print(\"Length of IT companies \", len(IT_companies))\n",
        "#\n",
        "IT_companies.add('Twitter')\n",
        "#\n",
        "IT_companies.update(['X', 'OpenAI','Canonical'])\n",
        "#\n",
        "IT_companies.remove('Facebook')\n",
        "# when element not found, remove will raise error, discard doesn't\n",
        "joined = A.union(B)\n",
        "#\n",
        "intersect = A.intersection(B)\n",
        "#\n",
        "print(A.isdisjoint(B))\n",
        "#\n",
        "joinAB = A.union(B)\n",
        "joinBA = B.union(A)\n",
        "#\n",
        "print(A.symmetric_difference(B))\n",
        "#\n",
        "del A\n",
        "del B\n",
        "age_set = set(age)\n",
        "print(len(age), len(age_set))"
      ],
      "metadata": {
        "colab": {
          "base_uri": "https://localhost:8080/"
        },
        "id": "J2uN9QqqdpOr",
        "outputId": "8e8af949-abd5-43ef-e674-7367ab924660"
      },
      "execution_count": 32,
      "outputs": [
        {
          "output_type": "stream",
          "name": "stdout",
          "text": [
            "Length of IT companies  7\n",
            "False\n",
            "{27, 28}\n",
            "8 5\n"
          ]
        }
      ]
    },
    {
      "cell_type": "code",
      "source": [],
      "metadata": {
        "id": "pg7dLW7kegK2"
      },
      "execution_count": null,
      "outputs": []
    }
  ]
}