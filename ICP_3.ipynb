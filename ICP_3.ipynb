{
 "cells": [
  {
   "cell_type": "code",
   "id": "initial_id",
   "metadata": {
    "collapsed": true,
    "ExecuteTime": {
     "end_time": "2025-07-14T22:44:14.406835Z",
     "start_time": "2025-07-14T22:44:14.353677Z"
    }
   },
   "source": "import numpy as np",
   "outputs": [],
   "execution_count": 1
  },
  {
   "metadata": {
    "ExecuteTime": {
     "end_time": "2025-07-14T22:46:40.384512Z",
     "start_time": "2025-07-14T22:46:40.360926Z"
    }
   },
   "cell_type": "code",
   "source": [
    "arr = np.random.randint(1,21,size = 15)\n",
    "\n",
    "arr = arr.reshape(3,5)\n",
    "\n",
    "print(arr.shape)\n",
    "\n",
    "for i in range(arr.shape[0]):\n",
    "    max_index = np.argmax(arr[i])\n",
    "    arr[i, max_index] = 0\n",
    "\n",
    "arr"
   ],
   "id": "33190d58fb7d02c1",
   "outputs": [
    {
     "name": "stdout",
     "output_type": "stream",
     "text": [
      "(3, 5)\n"
     ]
    },
    {
     "data": {
      "text/plain": [
       "array([[ 0,  2, 11, 10,  5],\n",
       "       [ 4,  5,  2, 11,  0],\n",
       "       [ 5,  0,  5,  3,  8]])"
      ]
     },
     "execution_count": 2,
     "metadata": {},
     "output_type": "execute_result"
    }
   ],
   "execution_count": 2
  },
  {
   "metadata": {
    "ExecuteTime": {
     "end_time": "2025-07-14T22:47:43.253764Z",
     "start_time": "2025-07-14T22:47:43.251595Z"
    }
   },
   "cell_type": "code",
   "source": [
    "arr = np.array([[1, 2, 3],\n",
    "                [4, 5, 6],\n",
    "                [7, 8, 9],\n",
    "                [10, 11, 12]], dtype=np.int32)\n",
    "\n",
    "print(\"Shape:\", arr.shape)\n",
    "print(\"Type:\", type(arr))\n",
    "print(\"Data type:\", arr.dtype)\n",
    "\n",
    "print(\"Array data:\\n\", arr)"
   ],
   "id": "5ee66f6e7dcd86f7",
   "outputs": [
    {
     "name": "stdout",
     "output_type": "stream",
     "text": [
      "Shape: (4, 3)\n",
      "Type: <class 'numpy.ndarray'>\n",
      "Data type: int32\n",
      "Array data:\n",
      " [[ 1  2  3]\n",
      " [ 4  5  6]\n",
      " [ 7  8  9]\n",
      " [10 11 12]]\n"
     ]
    }
   ],
   "execution_count": 3
  },
  {
   "metadata": {
    "ExecuteTime": {
     "end_time": "2025-07-14T22:48:17.604098Z",
     "start_time": "2025-07-14T22:48:17.601136Z"
    }
   },
   "cell_type": "code",
   "source": [
    "A = np.array([[3, -2],\n",
    "              [1,  0]])\n",
    "\n",
    "eigenvalues, eigenvectors = np.linalg.eig(A)\n",
    "\n",
    "print(eigenvalues)\n",
    "print(eigenvectors)"
   ],
   "id": "d82ec2608b2ff3ba",
   "outputs": [
    {
     "name": "stdout",
     "output_type": "stream",
     "text": [
      "[2. 1.]\n",
      "[[0.89442719 0.70710678]\n",
      " [0.4472136  0.70710678]]\n"
     ]
    }
   ],
   "execution_count": 4
  },
  {
   "metadata": {
    "ExecuteTime": {
     "end_time": "2025-07-14T22:48:59.375271Z",
     "start_time": "2025-07-14T22:48:59.373381Z"
    }
   },
   "cell_type": "code",
   "source": [
    "arr = np.array([[0, 1, 2],\n",
    "                [3, 4, 5]])\n",
    "diag_sum = np.trace(arr)\n",
    "\n",
    "print(diag_sum)"
   ],
   "id": "c492a661a6e3bc44",
   "outputs": [
    {
     "name": "stdout",
     "output_type": "stream",
     "text": [
      "4\n"
     ]
    }
   ],
   "execution_count": 5
  },
  {
   "metadata": {
    "ExecuteTime": {
     "end_time": "2025-07-14T22:49:34.272476Z",
     "start_time": "2025-07-14T22:49:34.269074Z"
    }
   },
   "cell_type": "code",
   "source": [
    "arr = np.array([[1, 2],\n",
    "                [3, 4],\n",
    "                [5, 6]])\n",
    "\n",
    "print(arr)\n",
    "# Reshape to 2x3\n",
    "reshaped_arr = arr.reshape(2, 3)\n",
    "\n",
    "print(\"\\nReshaped array (2x3):\")\n",
    "print(reshaped_arr)"
   ],
   "id": "c09d7d7655294ad4",
   "outputs": [
    {
     "name": "stdout",
     "output_type": "stream",
     "text": [
      "[[1 2]\n",
      " [3 4]\n",
      " [5 6]]\n",
      "\n",
      "Reshaped array (2x3):\n",
      "[[1 2 3]\n",
      " [4 5 6]]\n"
     ]
    }
   ],
   "execution_count": 6
  },
  {
   "metadata": {},
   "cell_type": "code",
   "outputs": [],
   "execution_count": null,
   "source": "",
   "id": "ab824d9a294580"
  }
 ],
 "metadata": {
  "kernelspec": {
   "display_name": "Python 3",
   "language": "python",
   "name": "python3"
  },
  "language_info": {
   "codemirror_mode": {
    "name": "ipython",
    "version": 2
   },
   "file_extension": ".py",
   "mimetype": "text/x-python",
   "name": "python",
   "nbconvert_exporter": "python",
   "pygments_lexer": "ipython2",
   "version": "2.7.6"
  }
 },
 "nbformat": 4,
 "nbformat_minor": 5
}
