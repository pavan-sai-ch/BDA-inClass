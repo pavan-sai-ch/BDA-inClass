{
  "nbformat": 4,
  "nbformat_minor": 0,
  "metadata": {
    "colab": {
      "provenance": [],
      "gpuType": "T4"
    },
    "kernelspec": {
      "name": "python3",
      "display_name": "Python 3"
    },
    "language_info": {
      "name": "python"
    },
    "accelerator": "GPU"
  },
  "cells": [
    {
      "cell_type": "markdown",
      "source": [
        "***Simple Neural Network with Keras Sequential API***"
      ],
      "metadata": {
        "id": "f8QdGW-45_Tv"
      }
    },
    {
      "cell_type": "code",
      "source": [
        "import tensorflow as tf\n",
        "from tensorflow.keras.models import Sequential\n",
        "from tensorflow.keras.layers import Dense\n",
        "import numpy as np\n",
        "\n",
        "# Generate some random data\n",
        "x_train = np.random.random((1000, 20))  # 1000 samples, 20 features each\n",
        "y_train = np.random.randint(2, size=(1000, 1))  # Binary labels (0 or 1)\n",
        "\n",
        "x_test = np.random.random((200, 20))  # 200 test samples\n",
        "y_test = np.random.randint(2, size=(200, 1))  # Binary labels for testing\n",
        "\n",
        "# Build a Sequential model\n",
        "model = Sequential()\n",
        "\n",
        "# Add a hidden layer with 64 neurons and ReLU activation\n",
        "model.add(Dense(64, activation='relu', input_shape=(20,)))\n",
        "\n",
        "# Add another hidden layer with 32 neurons and ReLU activation\n",
        "model.add(Dense(64, activation='relu'))\n",
        "model.add(Dense(16, activation='relu'))\n",
        "model.add(Dense(16, activation='relu'))\n",
        "\n",
        "model.add(Dense(8, activation='relu'))\n",
        "\n",
        "\n",
        "# Add an output layer with 1 neuron and sigmoid activation for binary classification\n",
        "model.add(Dense(1, activation='sigmoid'))\n",
        "\n",
        "# Compile the model\n",
        "model.compile(optimizer='sgd',\n",
        "              loss='binary_crossentropy',\n",
        "              metrics=['accuracy'])\n",
        "\n",
        "# Train the model\n",
        "model.fit(x_train, y_train, epochs=10, batch_size=16)\n",
        "\n",
        "# Evaluate the model on the test data\n",
        "test_loss, test_acc = model.evaluate(x_test, y_test)\n",
        "print(f'Test accuracy: {test_acc}')\n"
      ],
      "metadata": {
        "colab": {
          "base_uri": "https://localhost:8080/"
        },
        "id": "iJpPAbBG6LWQ",
        "outputId": "194c0a48-24e8-4615-c7d2-c7161e1b54cb"
      },
      "execution_count": 8,
      "outputs": [
        {
          "output_type": "stream",
          "name": "stdout",
          "text": [
            "Epoch 1/10\n",
            "\u001b[1m63/63\u001b[0m \u001b[32m━━━━━━━━━━━━━━━━━━━━\u001b[0m\u001b[37m\u001b[0m \u001b[1m3s\u001b[0m 11ms/step - accuracy: 0.5159 - loss: 0.6929\n",
            "Epoch 2/10\n",
            "\u001b[1m63/63\u001b[0m \u001b[32m━━━━━━━━━━━━━━━━━━━━\u001b[0m\u001b[37m\u001b[0m \u001b[1m1s\u001b[0m 3ms/step - accuracy: 0.5057 - loss: 0.6934\n",
            "Epoch 3/10\n",
            "\u001b[1m63/63\u001b[0m \u001b[32m━━━━━━━━━━━━━━━━━━━━\u001b[0m\u001b[37m\u001b[0m \u001b[1m0s\u001b[0m 2ms/step - accuracy: 0.5039 - loss: 0.6931\n",
            "Epoch 4/10\n",
            "\u001b[1m63/63\u001b[0m \u001b[32m━━━━━━━━━━━━━━━━━━━━\u001b[0m\u001b[37m\u001b[0m \u001b[1m0s\u001b[0m 2ms/step - accuracy: 0.5151 - loss: 0.6924\n",
            "Epoch 5/10\n",
            "\u001b[1m63/63\u001b[0m \u001b[32m━━━━━━━━━━━━━━━━━━━━\u001b[0m\u001b[37m\u001b[0m \u001b[1m0s\u001b[0m 2ms/step - accuracy: 0.5002 - loss: 0.6930\n",
            "Epoch 6/10\n",
            "\u001b[1m63/63\u001b[0m \u001b[32m━━━━━━━━━━━━━━━━━━━━\u001b[0m\u001b[37m\u001b[0m \u001b[1m0s\u001b[0m 2ms/step - accuracy: 0.5106 - loss: 0.6924\n",
            "Epoch 7/10\n",
            "\u001b[1m63/63\u001b[0m \u001b[32m━━━━━━━━━━━━━━━━━━━━\u001b[0m\u001b[37m\u001b[0m \u001b[1m0s\u001b[0m 2ms/step - accuracy: 0.5168 - loss: 0.6931\n",
            "Epoch 8/10\n",
            "\u001b[1m63/63\u001b[0m \u001b[32m━━━━━━━━━━━━━━━━━━━━\u001b[0m\u001b[37m\u001b[0m \u001b[1m0s\u001b[0m 2ms/step - accuracy: 0.5204 - loss: 0.6920\n",
            "Epoch 9/10\n",
            "\u001b[1m63/63\u001b[0m \u001b[32m━━━━━━━━━━━━━━━━━━━━\u001b[0m\u001b[37m\u001b[0m \u001b[1m0s\u001b[0m 2ms/step - accuracy: 0.4946 - loss: 0.6935\n",
            "Epoch 10/10\n",
            "\u001b[1m63/63\u001b[0m \u001b[32m━━━━━━━━━━━━━━━━━━━━\u001b[0m\u001b[37m\u001b[0m \u001b[1m0s\u001b[0m 2ms/step - accuracy: 0.5178 - loss: 0.6924\n",
            "\u001b[1m7/7\u001b[0m \u001b[32m━━━━━━━━━━━━━━━━━━━━\u001b[0m\u001b[37m\u001b[0m \u001b[1m1s\u001b[0m 32ms/step - accuracy: 0.5162 - loss: 0.6914\n",
            "Test accuracy: 0.49000000953674316\n"
          ]
        }
      ]
    },
    {
      "cell_type": "markdown",
      "source": [
        "***Sequential API to create and train a neural network for classifying the MNIST dataset.***"
      ],
      "metadata": {
        "id": "ske7X0_r33aI"
      }
    },
    {
      "cell_type": "code",
      "source": [
        "import tensorflow as tf\n",
        "from tensorflow.keras.models import Sequential\n",
        "from tensorflow.keras.layers import Dense, Flatten, Dropout, Input\n",
        "from tensorflow.keras.datasets import mnist\n",
        "from tensorflow.keras.utils import to_categorical\n",
        "\n",
        "# Load the MNIST dataset\n",
        "(x_train, y_train), (x_test, y_test) = mnist.load_data()\n",
        "\n",
        "# Preprocess the data: normalize images and one-hot encode labels\n",
        "x_train = x_train.astype('float32') / 255.0\n",
        "x_test = x_test.astype('float32') / 255.0\n",
        "y_train = to_categorical(y_train, 10)\n",
        "y_test = to_categorical(y_test, 10)\n",
        "\n",
        "# Build a Sequential model\n",
        "model = Sequential()\n",
        "model.add(Input(shape=(28, 28)))\n",
        "model.add(Flatten())\n",
        "model.add(Dense(512, activation='relu'))\n",
        "model.add(Dropout(0.3))\n",
        "model.add(Dense(512, activation='relu'))\n",
        "model.add(Dropout(0.3))\n",
        "model.add(Dense(256, activation='relu'))\n",
        "model.add(Dropout(0.3))\n",
        "model.add(Dense(64, activation='relu'))\n",
        "model.add(Dense(32, activation='relu'))\n",
        "model.add(Dense(10, activation='softmax'))\n",
        "\n",
        "# Compile the model\n",
        "model.compile(optimizer='adam',\n",
        "              loss='categorical_crossentropy',\n",
        "              metrics=['accuracy'])\n",
        "\n",
        "# Train the model\n",
        "model.fit(x_train, y_train, epochs=30, batch_size=64, validation_split=0.1)\n",
        "\n",
        "# Evaluate the model on the test data\n",
        "test_loss, test_acc = model.evaluate(x_test, y_test)\n",
        "print(f'Test accuracy: {test_acc:.4f}')"
      ],
      "metadata": {
        "id": "H4VP_F0d3paH",
        "colab": {
          "base_uri": "https://localhost:8080/"
        },
        "outputId": "60400e33-c949-4645-ce9b-703a4d8c6a7b"
      },
      "execution_count": 6,
      "outputs": [
        {
          "output_type": "stream",
          "name": "stdout",
          "text": [
            "Epoch 1/30\n",
            "\u001b[1m844/844\u001b[0m \u001b[32m━━━━━━━━━━━━━━━━━━━━\u001b[0m\u001b[37m\u001b[0m \u001b[1m10s\u001b[0m 7ms/step - accuracy: 0.8025 - loss: 0.6163 - val_accuracy: 0.9532 - val_loss: 0.1549\n",
            "Epoch 2/30\n",
            "\u001b[1m844/844\u001b[0m \u001b[32m━━━━━━━━━━━━━━━━━━━━\u001b[0m\u001b[37m\u001b[0m \u001b[1m2s\u001b[0m 3ms/step - accuracy: 0.9543 - loss: 0.1572 - val_accuracy: 0.9727 - val_loss: 0.0843\n",
            "Epoch 3/30\n",
            "\u001b[1m844/844\u001b[0m \u001b[32m━━━━━━━━━━━━━━━━━━━━\u001b[0m\u001b[37m\u001b[0m \u001b[1m3s\u001b[0m 3ms/step - accuracy: 0.9667 - loss: 0.1154 - val_accuracy: 0.9760 - val_loss: 0.0805\n",
            "Epoch 4/30\n",
            "\u001b[1m844/844\u001b[0m \u001b[32m━━━━━━━━━━━━━━━━━━━━\u001b[0m\u001b[37m\u001b[0m \u001b[1m5s\u001b[0m 3ms/step - accuracy: 0.9720 - loss: 0.0973 - val_accuracy: 0.9773 - val_loss: 0.0718\n",
            "Epoch 5/30\n",
            "\u001b[1m844/844\u001b[0m \u001b[32m━━━━━━━━━━━━━━━━━━━━\u001b[0m\u001b[37m\u001b[0m \u001b[1m2s\u001b[0m 3ms/step - accuracy: 0.9734 - loss: 0.0860 - val_accuracy: 0.9763 - val_loss: 0.0866\n",
            "Epoch 6/30\n",
            "\u001b[1m844/844\u001b[0m \u001b[32m━━━━━━━━━━━━━━━━━━━━\u001b[0m\u001b[37m\u001b[0m \u001b[1m2s\u001b[0m 3ms/step - accuracy: 0.9782 - loss: 0.0748 - val_accuracy: 0.9787 - val_loss: 0.0667\n",
            "Epoch 7/30\n",
            "\u001b[1m844/844\u001b[0m \u001b[32m━━━━━━━━━━━━━━━━━━━━\u001b[0m\u001b[37m\u001b[0m \u001b[1m3s\u001b[0m 4ms/step - accuracy: 0.9799 - loss: 0.0673 - val_accuracy: 0.9822 - val_loss: 0.0656\n",
            "Epoch 8/30\n",
            "\u001b[1m844/844\u001b[0m \u001b[32m━━━━━━━━━━━━━━━━━━━━\u001b[0m\u001b[37m\u001b[0m \u001b[1m5s\u001b[0m 3ms/step - accuracy: 0.9814 - loss: 0.0623 - val_accuracy: 0.9823 - val_loss: 0.0630\n",
            "Epoch 9/30\n",
            "\u001b[1m844/844\u001b[0m \u001b[32m━━━━━━━━━━━━━━━━━━━━\u001b[0m\u001b[37m\u001b[0m \u001b[1m5s\u001b[0m 3ms/step - accuracy: 0.9828 - loss: 0.0608 - val_accuracy: 0.9840 - val_loss: 0.0560\n",
            "Epoch 10/30\n",
            "\u001b[1m844/844\u001b[0m \u001b[32m━━━━━━━━━━━━━━━━━━━━\u001b[0m\u001b[37m\u001b[0m \u001b[1m3s\u001b[0m 4ms/step - accuracy: 0.9851 - loss: 0.0498 - val_accuracy: 0.9832 - val_loss: 0.0621\n",
            "Epoch 11/30\n",
            "\u001b[1m844/844\u001b[0m \u001b[32m━━━━━━━━━━━━━━━━━━━━\u001b[0m\u001b[37m\u001b[0m \u001b[1m2s\u001b[0m 3ms/step - accuracy: 0.9856 - loss: 0.0514 - val_accuracy: 0.9817 - val_loss: 0.0659\n",
            "Epoch 12/30\n",
            "\u001b[1m844/844\u001b[0m \u001b[32m━━━━━━━━━━━━━━━━━━━━\u001b[0m\u001b[37m\u001b[0m \u001b[1m2s\u001b[0m 3ms/step - accuracy: 0.9865 - loss: 0.0461 - val_accuracy: 0.9823 - val_loss: 0.0731\n",
            "Epoch 13/30\n",
            "\u001b[1m844/844\u001b[0m \u001b[32m━━━━━━━━━━━━━━━━━━━━\u001b[0m\u001b[37m\u001b[0m \u001b[1m3s\u001b[0m 3ms/step - accuracy: 0.9871 - loss: 0.0442 - val_accuracy: 0.9812 - val_loss: 0.0800\n",
            "Epoch 14/30\n",
            "\u001b[1m844/844\u001b[0m \u001b[32m━━━━━━━━━━━━━━━━━━━━\u001b[0m\u001b[37m\u001b[0m \u001b[1m3s\u001b[0m 3ms/step - accuracy: 0.9877 - loss: 0.0399 - val_accuracy: 0.9823 - val_loss: 0.0720\n",
            "Epoch 15/30\n",
            "\u001b[1m844/844\u001b[0m \u001b[32m━━━━━━━━━━━━━━━━━━━━\u001b[0m\u001b[37m\u001b[0m \u001b[1m3s\u001b[0m 3ms/step - accuracy: 0.9882 - loss: 0.0412 - val_accuracy: 0.9822 - val_loss: 0.0786\n",
            "Epoch 16/30\n",
            "\u001b[1m844/844\u001b[0m \u001b[32m━━━━━━━━━━━━━━━━━━━━\u001b[0m\u001b[37m\u001b[0m \u001b[1m5s\u001b[0m 3ms/step - accuracy: 0.9882 - loss: 0.0395 - val_accuracy: 0.9810 - val_loss: 0.0804\n",
            "Epoch 17/30\n",
            "\u001b[1m844/844\u001b[0m \u001b[32m━━━━━━━━━━━━━━━━━━━━\u001b[0m\u001b[37m\u001b[0m \u001b[1m3s\u001b[0m 3ms/step - accuracy: 0.9896 - loss: 0.0353 - val_accuracy: 0.9825 - val_loss: 0.0712\n",
            "Epoch 18/30\n",
            "\u001b[1m844/844\u001b[0m \u001b[32m━━━━━━━━━━━━━━━━━━━━\u001b[0m\u001b[37m\u001b[0m \u001b[1m3s\u001b[0m 4ms/step - accuracy: 0.9894 - loss: 0.0355 - val_accuracy: 0.9823 - val_loss: 0.0824\n",
            "Epoch 19/30\n",
            "\u001b[1m844/844\u001b[0m \u001b[32m━━━━━━━━━━━━━━━━━━━━\u001b[0m\u001b[37m\u001b[0m \u001b[1m5s\u001b[0m 3ms/step - accuracy: 0.9903 - loss: 0.0318 - val_accuracy: 0.9838 - val_loss: 0.0822\n",
            "Epoch 20/30\n",
            "\u001b[1m844/844\u001b[0m \u001b[32m━━━━━━━━━━━━━━━━━━━━\u001b[0m\u001b[37m\u001b[0m \u001b[1m3s\u001b[0m 3ms/step - accuracy: 0.9912 - loss: 0.0297 - val_accuracy: 0.9828 - val_loss: 0.0749\n",
            "Epoch 21/30\n",
            "\u001b[1m844/844\u001b[0m \u001b[32m━━━━━━━━━━━━━━━━━━━━\u001b[0m\u001b[37m\u001b[0m \u001b[1m2s\u001b[0m 3ms/step - accuracy: 0.9914 - loss: 0.0287 - val_accuracy: 0.9823 - val_loss: 0.0813\n",
            "Epoch 22/30\n",
            "\u001b[1m844/844\u001b[0m \u001b[32m━━━━━━━━━━━━━━━━━━━━\u001b[0m\u001b[37m\u001b[0m \u001b[1m3s\u001b[0m 4ms/step - accuracy: 0.9908 - loss: 0.0305 - val_accuracy: 0.9837 - val_loss: 0.0764\n",
            "Epoch 23/30\n",
            "\u001b[1m844/844\u001b[0m \u001b[32m━━━━━━━━━━━━━━━━━━━━\u001b[0m\u001b[37m\u001b[0m \u001b[1m5s\u001b[0m 3ms/step - accuracy: 0.9917 - loss: 0.0294 - val_accuracy: 0.9845 - val_loss: 0.0732\n",
            "Epoch 24/30\n",
            "\u001b[1m844/844\u001b[0m \u001b[32m━━━━━━━━━━━━━━━━━━━━\u001b[0m\u001b[37m\u001b[0m \u001b[1m3s\u001b[0m 3ms/step - accuracy: 0.9912 - loss: 0.0300 - val_accuracy: 0.9845 - val_loss: 0.0818\n",
            "Epoch 25/30\n",
            "\u001b[1m844/844\u001b[0m \u001b[32m━━━━━━━━━━━━━━━━━━━━\u001b[0m\u001b[37m\u001b[0m \u001b[1m3s\u001b[0m 3ms/step - accuracy: 0.9918 - loss: 0.0322 - val_accuracy: 0.9842 - val_loss: 0.0869\n",
            "Epoch 26/30\n",
            "\u001b[1m844/844\u001b[0m \u001b[32m━━━━━━━━━━━━━━━━━━━━\u001b[0m\u001b[37m\u001b[0m \u001b[1m5s\u001b[0m 3ms/step - accuracy: 0.9917 - loss: 0.0273 - val_accuracy: 0.9830 - val_loss: 0.0737\n",
            "Epoch 27/30\n",
            "\u001b[1m844/844\u001b[0m \u001b[32m━━━━━━━━━━━━━━━━━━━━\u001b[0m\u001b[37m\u001b[0m \u001b[1m5s\u001b[0m 3ms/step - accuracy: 0.9925 - loss: 0.0256 - val_accuracy: 0.9835 - val_loss: 0.0671\n",
            "Epoch 28/30\n",
            "\u001b[1m844/844\u001b[0m \u001b[32m━━━━━━━━━━━━━━━━━━━━\u001b[0m\u001b[37m\u001b[0m \u001b[1m3s\u001b[0m 4ms/step - accuracy: 0.9933 - loss: 0.0230 - val_accuracy: 0.9845 - val_loss: 0.0729\n",
            "Epoch 29/30\n",
            "\u001b[1m844/844\u001b[0m \u001b[32m━━━━━━━━━━━━━━━━━━━━\u001b[0m\u001b[37m\u001b[0m \u001b[1m4s\u001b[0m 3ms/step - accuracy: 0.9937 - loss: 0.0222 - val_accuracy: 0.9867 - val_loss: 0.0707\n",
            "Epoch 30/30\n",
            "\u001b[1m844/844\u001b[0m \u001b[32m━━━━━━━━━━━━━━━━━━━━\u001b[0m\u001b[37m\u001b[0m \u001b[1m3s\u001b[0m 3ms/step - accuracy: 0.9934 - loss: 0.0249 - val_accuracy: 0.9848 - val_loss: 0.0643\n",
            "\u001b[1m313/313\u001b[0m \u001b[32m━━━━━━━━━━━━━━━━━━━━\u001b[0m\u001b[37m\u001b[0m \u001b[1m1s\u001b[0m 3ms/step - accuracy: 0.9845 - loss: 0.0767\n",
            "Test accuracy: 0.9863\n"
          ]
        }
      ]
    },
    {
      "cell_type": "code",
      "source": [
        "#with conv2d and maxpooling2d\n",
        "import tensorflow as tf\n",
        "from tensorflow.keras.models import Sequential\n",
        "from tensorflow.keras.layers import Conv2D, MaxPooling2D, Flatten, Dense, Dropout, BatchNormalization\n",
        "from tensorflow.keras.datasets import mnist\n",
        "from tensorflow.keras.utils import to_categorical\n",
        "\n",
        "# Load the MNIST dataset\n",
        "(x_train, y_train), (x_test, y_test) = mnist.load_data()\n",
        "\n",
        "# Reshape and normalize\n",
        "x_train = x_train.reshape(-1, 28, 28, 1).astype('float32') / 255.0\n",
        "x_test = x_test.reshape(-1, 28, 28, 1).astype('float32') / 255.0\n",
        "y_train = to_categorical(y_train, 10)\n",
        "y_test = to_categorical(y_test, 10)\n",
        "\n",
        "# Build the CNN model\n",
        "model = Sequential([\n",
        "    Conv2D(32, (3, 3), activation='relu', input_shape=(28, 28, 1)),\n",
        "    BatchNormalization(),\n",
        "    Conv2D(32, (3, 3), activation='relu'),\n",
        "    MaxPooling2D(pool_size=(2, 2)),\n",
        "    Dropout(0.25),\n",
        "\n",
        "    Conv2D(64, (3, 3), activation='relu'),\n",
        "    BatchNormalization(),\n",
        "    Conv2D(64, (3, 3), activation='relu'),\n",
        "    MaxPooling2D(pool_size=(2, 2)),\n",
        "    Dropout(0.25),\n",
        "\n",
        "    Flatten(),\n",
        "    Dense(256, activation='relu'),\n",
        "    Dropout(0.5),\n",
        "    Dense(10, activation='softmax')\n",
        "])\n",
        "\n",
        "# Compile the model\n",
        "model.compile(optimizer='adam', loss='categorical_crossentropy', metrics=['accuracy'])\n",
        "\n",
        "# Train the model\n",
        "model.fit(x_train, y_train,\n",
        "          batch_size=128,\n",
        "          epochs=15,\n",
        "          validation_split=0.1,\n",
        "          verbose=2)\n",
        "\n",
        "# Evaluate\n",
        "test_loss, test_acc = model.evaluate(x_test, y_test)\n",
        "print(f'Test accuracy: {test_acc:.4f}')"
      ],
      "metadata": {
        "colab": {
          "base_uri": "https://localhost:8080/"
        },
        "id": "0UKovjc6fQ94",
        "outputId": "5dd5b3d0-c16c-48ff-effb-b715cb3c5479"
      },
      "execution_count": 9,
      "outputs": [
        {
          "output_type": "stream",
          "name": "stderr",
          "text": [
            "/usr/local/lib/python3.11/dist-packages/keras/src/layers/convolutional/base_conv.py:107: UserWarning: Do not pass an `input_shape`/`input_dim` argument to a layer. When using Sequential models, prefer using an `Input(shape)` object as the first layer in the model instead.\n",
            "  super().__init__(activity_regularizer=activity_regularizer, **kwargs)\n"
          ]
        },
        {
          "output_type": "stream",
          "name": "stdout",
          "text": [
            "Epoch 1/15\n",
            "422/422 - 17s - 41ms/step - accuracy: 0.9067 - loss: 0.3015 - val_accuracy: 0.8402 - val_loss: 0.4767\n",
            "Epoch 2/15\n",
            "422/422 - 3s - 6ms/step - accuracy: 0.9725 - loss: 0.0935 - val_accuracy: 0.9872 - val_loss: 0.0432\n",
            "Epoch 3/15\n",
            "422/422 - 3s - 6ms/step - accuracy: 0.9785 - loss: 0.0714 - val_accuracy: 0.9885 - val_loss: 0.0392\n",
            "Epoch 4/15\n",
            "422/422 - 5s - 13ms/step - accuracy: 0.9826 - loss: 0.0567 - val_accuracy: 0.9907 - val_loss: 0.0349\n",
            "Epoch 5/15\n",
            "422/422 - 5s - 11ms/step - accuracy: 0.9859 - loss: 0.0485 - val_accuracy: 0.9920 - val_loss: 0.0282\n",
            "Epoch 6/15\n",
            "422/422 - 3s - 6ms/step - accuracy: 0.9871 - loss: 0.0429 - val_accuracy: 0.9913 - val_loss: 0.0347\n",
            "Epoch 7/15\n",
            "422/422 - 5s - 13ms/step - accuracy: 0.9881 - loss: 0.0396 - val_accuracy: 0.9930 - val_loss: 0.0303\n",
            "Epoch 8/15\n",
            "422/422 - 3s - 6ms/step - accuracy: 0.9889 - loss: 0.0372 - val_accuracy: 0.9920 - val_loss: 0.0276\n",
            "Epoch 9/15\n",
            "422/422 - 3s - 6ms/step - accuracy: 0.9891 - loss: 0.0363 - val_accuracy: 0.9932 - val_loss: 0.0267\n",
            "Epoch 10/15\n",
            "422/422 - 3s - 6ms/step - accuracy: 0.9899 - loss: 0.0328 - val_accuracy: 0.9945 - val_loss: 0.0257\n",
            "Epoch 11/15\n",
            "422/422 - 3s - 7ms/step - accuracy: 0.9912 - loss: 0.0289 - val_accuracy: 0.9928 - val_loss: 0.0302\n",
            "Epoch 12/15\n",
            "422/422 - 5s - 12ms/step - accuracy: 0.9911 - loss: 0.0293 - val_accuracy: 0.9953 - val_loss: 0.0229\n",
            "Epoch 13/15\n",
            "422/422 - 5s - 12ms/step - accuracy: 0.9924 - loss: 0.0255 - val_accuracy: 0.9927 - val_loss: 0.0294\n",
            "Epoch 14/15\n",
            "422/422 - 3s - 7ms/step - accuracy: 0.9924 - loss: 0.0248 - val_accuracy: 0.9940 - val_loss: 0.0253\n",
            "Epoch 15/15\n",
            "422/422 - 3s - 6ms/step - accuracy: 0.9925 - loss: 0.0257 - val_accuracy: 0.9940 - val_loss: 0.0261\n",
            "\u001b[1m313/313\u001b[0m \u001b[32m━━━━━━━━━━━━━━━━━━━━\u001b[0m\u001b[37m\u001b[0m \u001b[1m2s\u001b[0m 4ms/step - accuracy: 0.9931 - loss: 0.0239\n",
            "Test accuracy: 0.9942\n"
          ]
        }
      ]
    },
    {
      "cell_type": "code",
      "source": [
        "import tensorflow as tf\n",
        "from tensorflow.keras.models import Sequential\n",
        "from tensorflow.keras.layers import Dense, Flatten\n",
        "from tensorflow.keras.datasets import mnist\n",
        "from tensorflow.keras.utils import to_categorical\n",
        "\n",
        "(x_train, y_train), (x_test, y_test) = mnist.load_data()\n",
        "x_train = x_train.astype(\"float32\") / 255.0\n",
        "x_test = x_test.astype(\"float32\") / 255.0\n",
        "y_train = to_categorical(y_train, 10)\n",
        "y_test = to_categorical(y_test, 10)\n",
        "\n",
        "def build_model(optimizer):\n",
        "    model = Sequential([\n",
        "        Flatten(input_shape=(28, 28)),\n",
        "        Dense(512, activation='relu'),\n",
        "        Dense(256, activation='relu'),\n",
        "        Dense(128, activation='relu'),\n",
        "        Dense(64, activation='relu'),\n",
        "        Dense(32, activation='relu'),\n",
        "        Dense(10, activation='softmax')\n",
        "    ])\n",
        "    model.compile(optimizer=optimizer, loss='categorical_crossentropy', metrics=['accuracy'])\n",
        "    return model"
      ],
      "metadata": {
        "id": "VBuAx-kUgHzv"
      },
      "execution_count": 10,
      "outputs": []
    },
    {
      "cell_type": "code",
      "source": [
        "model_sgd = build_model(optimizer='sgd')\n",
        "model_sgd.fit(x_train, y_train, epochs=20, batch_size=128, validation_split=0.1, verbose=2)\n",
        "test_loss, test_acc = model_sgd.evaluate(x_test, y_test)\n",
        "print(f\"SGD Test Accuracy: {test_acc:.4f}\")"
      ],
      "metadata": {
        "colab": {
          "base_uri": "https://localhost:8080/"
        },
        "id": "yKL3sW3bg0Y7",
        "outputId": "f1eb8b03-bb1d-445f-e82d-5a0f9c459227"
      },
      "execution_count": 11,
      "outputs": [
        {
          "output_type": "stream",
          "name": "stderr",
          "text": [
            "/usr/local/lib/python3.11/dist-packages/keras/src/layers/reshaping/flatten.py:37: UserWarning: Do not pass an `input_shape`/`input_dim` argument to a layer. When using Sequential models, prefer using an `Input(shape)` object as the first layer in the model instead.\n",
            "  super().__init__(**kwargs)\n"
          ]
        },
        {
          "output_type": "stream",
          "name": "stdout",
          "text": [
            "Epoch 1/20\n",
            "422/422 - 4s - 10ms/step - accuracy: 0.5519 - loss: 1.4965 - val_accuracy: 0.8403 - val_loss: 0.6136\n",
            "Epoch 2/20\n",
            "422/422 - 1s - 3ms/step - accuracy: 0.8566 - loss: 0.5124 - val_accuracy: 0.9122 - val_loss: 0.3275\n",
            "Epoch 3/20\n",
            "422/422 - 1s - 3ms/step - accuracy: 0.9026 - loss: 0.3463 - val_accuracy: 0.9277 - val_loss: 0.2476\n",
            "Epoch 4/20\n",
            "422/422 - 1s - 3ms/step - accuracy: 0.9205 - loss: 0.2787 - val_accuracy: 0.9420 - val_loss: 0.1980\n",
            "Epoch 5/20\n",
            "422/422 - 1s - 3ms/step - accuracy: 0.9319 - loss: 0.2385 - val_accuracy: 0.9473 - val_loss: 0.1765\n",
            "Epoch 6/20\n",
            "422/422 - 1s - 3ms/step - accuracy: 0.9391 - loss: 0.2113 - val_accuracy: 0.9518 - val_loss: 0.1628\n",
            "Epoch 7/20\n",
            "422/422 - 1s - 3ms/step - accuracy: 0.9459 - loss: 0.1884 - val_accuracy: 0.9583 - val_loss: 0.1448\n",
            "Epoch 8/20\n",
            "422/422 - 1s - 3ms/step - accuracy: 0.9504 - loss: 0.1698 - val_accuracy: 0.9607 - val_loss: 0.1351\n",
            "Epoch 9/20\n",
            "422/422 - 1s - 3ms/step - accuracy: 0.9546 - loss: 0.1557 - val_accuracy: 0.9633 - val_loss: 0.1262\n",
            "Epoch 10/20\n",
            "422/422 - 1s - 3ms/step - accuracy: 0.9584 - loss: 0.1432 - val_accuracy: 0.9668 - val_loss: 0.1153\n",
            "Epoch 11/20\n",
            "422/422 - 1s - 3ms/step - accuracy: 0.9619 - loss: 0.1313 - val_accuracy: 0.9685 - val_loss: 0.1104\n",
            "Epoch 12/20\n",
            "422/422 - 1s - 3ms/step - accuracy: 0.9648 - loss: 0.1216 - val_accuracy: 0.9682 - val_loss: 0.1081\n",
            "Epoch 13/20\n",
            "422/422 - 1s - 3ms/step - accuracy: 0.9670 - loss: 0.1133 - val_accuracy: 0.9705 - val_loss: 0.1011\n",
            "Epoch 14/20\n",
            "422/422 - 1s - 3ms/step - accuracy: 0.9693 - loss: 0.1058 - val_accuracy: 0.9728 - val_loss: 0.1011\n",
            "Epoch 15/20\n",
            "422/422 - 1s - 3ms/step - accuracy: 0.9713 - loss: 0.0981 - val_accuracy: 0.9713 - val_loss: 0.0954\n",
            "Epoch 16/20\n",
            "422/422 - 1s - 3ms/step - accuracy: 0.9736 - loss: 0.0924 - val_accuracy: 0.9715 - val_loss: 0.0967\n",
            "Epoch 17/20\n",
            "422/422 - 1s - 3ms/step - accuracy: 0.9751 - loss: 0.0866 - val_accuracy: 0.9732 - val_loss: 0.0915\n",
            "Epoch 18/20\n",
            "422/422 - 1s - 3ms/step - accuracy: 0.9768 - loss: 0.0811 - val_accuracy: 0.9718 - val_loss: 0.0974\n",
            "Epoch 19/20\n",
            "422/422 - 1s - 3ms/step - accuracy: 0.9780 - loss: 0.0765 - val_accuracy: 0.9743 - val_loss: 0.0895\n",
            "Epoch 20/20\n",
            "422/422 - 2s - 4ms/step - accuracy: 0.9794 - loss: 0.0719 - val_accuracy: 0.9760 - val_loss: 0.0859\n",
            "\u001b[1m313/313\u001b[0m \u001b[32m━━━━━━━━━━━━━━━━━━━━\u001b[0m\u001b[37m\u001b[0m \u001b[1m1s\u001b[0m 3ms/step - accuracy: 0.9661 - loss: 0.1148\n",
            "SGD Test Accuracy: 0.9704\n"
          ]
        }
      ]
    },
    {
      "cell_type": "code",
      "source": [
        "model_rmsprop = build_model(optimizer='rmsprop')\n",
        "model_rmsprop.fit(x_train, y_train, epochs=20, batch_size=128, validation_split=0.1, verbose=2)\n",
        "test_loss, test_acc = model_rmsprop.evaluate(x_test, y_test)\n",
        "print(f\"RMSprop Test Accuracy: {test_acc:.4f}\")"
      ],
      "metadata": {
        "colab": {
          "base_uri": "https://localhost:8080/"
        },
        "id": "AitnHQqQg61r",
        "outputId": "b11c97c2-dba7-47d6-d167-8a2a971d3d91"
      },
      "execution_count": 12,
      "outputs": [
        {
          "output_type": "stream",
          "name": "stdout",
          "text": [
            "Epoch 1/20\n",
            "422/422 - 4s - 10ms/step - accuracy: 0.8933 - loss: 0.3470 - val_accuracy: 0.9593 - val_loss: 0.1436\n",
            "Epoch 2/20\n",
            "422/422 - 3s - 8ms/step - accuracy: 0.9673 - loss: 0.1095 - val_accuracy: 0.9692 - val_loss: 0.1127\n",
            "Epoch 3/20\n",
            "422/422 - 1s - 3ms/step - accuracy: 0.9782 - loss: 0.0719 - val_accuracy: 0.9782 - val_loss: 0.0756\n",
            "Epoch 4/20\n",
            "422/422 - 1s - 3ms/step - accuracy: 0.9838 - loss: 0.0533 - val_accuracy: 0.9803 - val_loss: 0.0724\n",
            "Epoch 5/20\n",
            "422/422 - 1s - 3ms/step - accuracy: 0.9881 - loss: 0.0404 - val_accuracy: 0.9812 - val_loss: 0.0772\n",
            "Epoch 6/20\n",
            "422/422 - 1s - 3ms/step - accuracy: 0.9904 - loss: 0.0318 - val_accuracy: 0.9793 - val_loss: 0.0838\n",
            "Epoch 7/20\n",
            "422/422 - 1s - 3ms/step - accuracy: 0.9915 - loss: 0.0272 - val_accuracy: 0.9787 - val_loss: 0.0939\n",
            "Epoch 8/20\n",
            "422/422 - 1s - 3ms/step - accuracy: 0.9940 - loss: 0.0210 - val_accuracy: 0.9825 - val_loss: 0.0847\n",
            "Epoch 9/20\n",
            "422/422 - 1s - 3ms/step - accuracy: 0.9947 - loss: 0.0180 - val_accuracy: 0.9817 - val_loss: 0.0946\n",
            "Epoch 10/20\n",
            "422/422 - 2s - 4ms/step - accuracy: 0.9950 - loss: 0.0170 - val_accuracy: 0.9840 - val_loss: 0.0751\n",
            "Epoch 11/20\n",
            "422/422 - 1s - 3ms/step - accuracy: 0.9960 - loss: 0.0135 - val_accuracy: 0.9798 - val_loss: 0.1057\n",
            "Epoch 12/20\n",
            "422/422 - 1s - 3ms/step - accuracy: 0.9969 - loss: 0.0113 - val_accuracy: 0.9825 - val_loss: 0.0979\n",
            "Epoch 13/20\n",
            "422/422 - 1s - 3ms/step - accuracy: 0.9967 - loss: 0.0112 - val_accuracy: 0.9812 - val_loss: 0.1163\n",
            "Epoch 14/20\n",
            "422/422 - 1s - 3ms/step - accuracy: 0.9972 - loss: 0.0101 - val_accuracy: 0.9823 - val_loss: 0.1013\n",
            "Epoch 15/20\n",
            "422/422 - 1s - 3ms/step - accuracy: 0.9970 - loss: 0.0112 - val_accuracy: 0.9812 - val_loss: 0.1165\n",
            "Epoch 16/20\n",
            "422/422 - 1s - 3ms/step - accuracy: 0.9977 - loss: 0.0082 - val_accuracy: 0.9833 - val_loss: 0.1167\n",
            "Epoch 17/20\n",
            "422/422 - 1s - 3ms/step - accuracy: 0.9980 - loss: 0.0070 - val_accuracy: 0.9802 - val_loss: 0.1431\n",
            "Epoch 18/20\n",
            "422/422 - 1s - 3ms/step - accuracy: 0.9979 - loss: 0.0076 - val_accuracy: 0.9840 - val_loss: 0.1002\n",
            "Epoch 19/20\n",
            "422/422 - 1s - 3ms/step - accuracy: 0.9981 - loss: 0.0069 - val_accuracy: 0.9853 - val_loss: 0.1012\n",
            "Epoch 20/20\n",
            "422/422 - 2s - 4ms/step - accuracy: 0.9980 - loss: 0.0069 - val_accuracy: 0.9833 - val_loss: 0.1262\n",
            "\u001b[1m313/313\u001b[0m \u001b[32m━━━━━━━━━━━━━━━━━━━━\u001b[0m\u001b[37m\u001b[0m \u001b[1m1s\u001b[0m 3ms/step - accuracy: 0.9786 - loss: 0.1631\n",
            "RMSprop Test Accuracy: 0.9830\n"
          ]
        }
      ]
    },
    {
      "cell_type": "code",
      "source": [
        "model_adagrad = build_model(optimizer='adagrad')\n",
        "model_adagrad.fit(x_train, y_train, epochs=20, batch_size=128, validation_split=0.1, verbose=2)\n",
        "test_loss, test_acc = model_adagrad.evaluate(x_test, y_test)\n",
        "print(f\"Adagrad Test Accuracy: {test_acc:.4f}\")"
      ],
      "metadata": {
        "colab": {
          "base_uri": "https://localhost:8080/"
        },
        "id": "lR3VFmo_g-dt",
        "outputId": "cb1ed9a0-a13a-448b-fcd2-ce6e0d14b0b2"
      },
      "execution_count": 13,
      "outputs": [
        {
          "output_type": "stream",
          "name": "stdout",
          "text": [
            "Epoch 1/20\n",
            "422/422 - 4s - 9ms/step - accuracy: 0.2656 - loss: 2.2212 - val_accuracy: 0.4112 - val_loss: 2.0940\n",
            "Epoch 2/20\n",
            "422/422 - 1s - 3ms/step - accuracy: 0.4904 - loss: 1.8368 - val_accuracy: 0.6037 - val_loss: 1.4727\n",
            "Epoch 3/20\n",
            "422/422 - 1s - 3ms/step - accuracy: 0.7010 - loss: 1.1427 - val_accuracy: 0.8160 - val_loss: 0.7945\n",
            "Epoch 4/20\n",
            "422/422 - 2s - 5ms/step - accuracy: 0.8169 - loss: 0.7138 - val_accuracy: 0.8755 - val_loss: 0.5319\n",
            "Epoch 5/20\n",
            "422/422 - 1s - 3ms/step - accuracy: 0.8532 - loss: 0.5444 - val_accuracy: 0.8967 - val_loss: 0.4182\n",
            "Epoch 6/20\n",
            "422/422 - 1s - 3ms/step - accuracy: 0.8733 - loss: 0.4592 - val_accuracy: 0.9072 - val_loss: 0.3567\n",
            "Epoch 7/20\n",
            "422/422 - 1s - 3ms/step - accuracy: 0.8853 - loss: 0.4082 - val_accuracy: 0.9168 - val_loss: 0.3196\n",
            "Epoch 8/20\n",
            "422/422 - 1s - 3ms/step - accuracy: 0.8942 - loss: 0.3741 - val_accuracy: 0.9207 - val_loss: 0.2947\n",
            "Epoch 9/20\n",
            "422/422 - 1s - 3ms/step - accuracy: 0.9009 - loss: 0.3489 - val_accuracy: 0.9248 - val_loss: 0.2756\n",
            "Epoch 10/20\n",
            "422/422 - 1s - 3ms/step - accuracy: 0.9067 - loss: 0.3293 - val_accuracy: 0.9293 - val_loss: 0.2606\n",
            "Epoch 11/20\n",
            "422/422 - 2s - 4ms/step - accuracy: 0.9108 - loss: 0.3133 - val_accuracy: 0.9330 - val_loss: 0.2482\n",
            "Epoch 12/20\n",
            "422/422 - 2s - 6ms/step - accuracy: 0.9148 - loss: 0.2995 - val_accuracy: 0.9353 - val_loss: 0.2388\n",
            "Epoch 13/20\n",
            "422/422 - 1s - 3ms/step - accuracy: 0.9177 - loss: 0.2876 - val_accuracy: 0.9390 - val_loss: 0.2292\n",
            "Epoch 14/20\n",
            "422/422 - 1s - 3ms/step - accuracy: 0.9201 - loss: 0.2773 - val_accuracy: 0.9413 - val_loss: 0.2208\n",
            "Epoch 15/20\n",
            "422/422 - 1s - 3ms/step - accuracy: 0.9233 - loss: 0.2679 - val_accuracy: 0.9428 - val_loss: 0.2138\n",
            "Epoch 16/20\n",
            "422/422 - 1s - 3ms/step - accuracy: 0.9254 - loss: 0.2593 - val_accuracy: 0.9432 - val_loss: 0.2071\n",
            "Epoch 17/20\n",
            "422/422 - 1s - 3ms/step - accuracy: 0.9276 - loss: 0.2514 - val_accuracy: 0.9435 - val_loss: 0.2020\n",
            "Epoch 18/20\n",
            "422/422 - 1s - 3ms/step - accuracy: 0.9302 - loss: 0.2441 - val_accuracy: 0.9455 - val_loss: 0.1965\n",
            "Epoch 19/20\n",
            "422/422 - 1s - 3ms/step - accuracy: 0.9318 - loss: 0.2374 - val_accuracy: 0.9470 - val_loss: 0.1920\n",
            "Epoch 20/20\n",
            "422/422 - 2s - 4ms/step - accuracy: 0.9337 - loss: 0.2312 - val_accuracy: 0.9488 - val_loss: 0.1863\n",
            "\u001b[1m313/313\u001b[0m \u001b[32m━━━━━━━━━━━━━━━━━━━━\u001b[0m\u001b[37m\u001b[0m \u001b[1m1s\u001b[0m 3ms/step - accuracy: 0.9241 - loss: 0.2545\n",
            "Adagrad Test Accuracy: 0.9349\n"
          ]
        }
      ]
    },
    {
      "cell_type": "code",
      "source": [
        "model_adamax = build_model(optimizer='adamax')\n",
        "model_adamax.fit(x_train, y_train, epochs=20, batch_size=128, validation_split=0.1, verbose=2)\n",
        "test_loss, test_acc = model_adamax.evaluate(x_test, y_test)\n",
        "print(f\"Adamax Test Accuracy: {test_acc:.4f}\")"
      ],
      "metadata": {
        "colab": {
          "base_uri": "https://localhost:8080/"
        },
        "id": "tWS4K8gchAQT",
        "outputId": "3f0fddaf-b4cb-495b-89bd-e31f1b748538"
      },
      "execution_count": 14,
      "outputs": [
        {
          "output_type": "stream",
          "name": "stdout",
          "text": [
            "Epoch 1/20\n",
            "422/422 - 5s - 13ms/step - accuracy: 0.8839 - loss: 0.3876 - val_accuracy: 0.9563 - val_loss: 0.1576\n",
            "Epoch 2/20\n",
            "422/422 - 3s - 7ms/step - accuracy: 0.9551 - loss: 0.1524 - val_accuracy: 0.9692 - val_loss: 0.1059\n",
            "Epoch 3/20\n",
            "422/422 - 1s - 3ms/step - accuracy: 0.9692 - loss: 0.1038 - val_accuracy: 0.9757 - val_loss: 0.0844\n",
            "Epoch 4/20\n",
            "422/422 - 1s - 3ms/step - accuracy: 0.9772 - loss: 0.0736 - val_accuracy: 0.9767 - val_loss: 0.0763\n",
            "Epoch 5/20\n",
            "422/422 - 2s - 4ms/step - accuracy: 0.9827 - loss: 0.0564 - val_accuracy: 0.9793 - val_loss: 0.0700\n",
            "Epoch 6/20\n",
            "422/422 - 2s - 4ms/step - accuracy: 0.9882 - loss: 0.0404 - val_accuracy: 0.9800 - val_loss: 0.0708\n",
            "Epoch 7/20\n",
            "422/422 - 2s - 5ms/step - accuracy: 0.9903 - loss: 0.0314 - val_accuracy: 0.9817 - val_loss: 0.0676\n",
            "Epoch 8/20\n",
            "422/422 - 1s - 3ms/step - accuracy: 0.9931 - loss: 0.0248 - val_accuracy: 0.9802 - val_loss: 0.0755\n",
            "Epoch 9/20\n",
            "422/422 - 1s - 3ms/step - accuracy: 0.9950 - loss: 0.0172 - val_accuracy: 0.9795 - val_loss: 0.0804\n",
            "Epoch 10/20\n",
            "422/422 - 1s - 3ms/step - accuracy: 0.9965 - loss: 0.0129 - val_accuracy: 0.9835 - val_loss: 0.0655\n",
            "Epoch 11/20\n",
            "422/422 - 1s - 3ms/step - accuracy: 0.9976 - loss: 0.0092 - val_accuracy: 0.9828 - val_loss: 0.0751\n",
            "Epoch 12/20\n",
            "422/422 - 1s - 3ms/step - accuracy: 0.9983 - loss: 0.0065 - val_accuracy: 0.9827 - val_loss: 0.0766\n",
            "Epoch 13/20\n",
            "422/422 - 1s - 3ms/step - accuracy: 0.9989 - loss: 0.0047 - val_accuracy: 0.9825 - val_loss: 0.0803\n",
            "Epoch 14/20\n",
            "422/422 - 2s - 4ms/step - accuracy: 0.9994 - loss: 0.0031 - val_accuracy: 0.9817 - val_loss: 0.0855\n",
            "Epoch 15/20\n",
            "422/422 - 1s - 3ms/step - accuracy: 0.9994 - loss: 0.0031 - val_accuracy: 0.9827 - val_loss: 0.0846\n",
            "Epoch 16/20\n",
            "422/422 - 1s - 3ms/step - accuracy: 0.9996 - loss: 0.0018 - val_accuracy: 0.9822 - val_loss: 0.0824\n",
            "Epoch 17/20\n",
            "422/422 - 1s - 3ms/step - accuracy: 0.9999 - loss: 9.9496e-04 - val_accuracy: 0.9838 - val_loss: 0.0854\n",
            "Epoch 18/20\n",
            "422/422 - 1s - 3ms/step - accuracy: 0.9999 - loss: 6.2010e-04 - val_accuracy: 0.9833 - val_loss: 0.0914\n",
            "Epoch 19/20\n",
            "422/422 - 1s - 3ms/step - accuracy: 0.9997 - loss: 0.0014 - val_accuracy: 0.9823 - val_loss: 0.0962\n",
            "Epoch 20/20\n",
            "422/422 - 1s - 3ms/step - accuracy: 0.9998 - loss: 9.9086e-04 - val_accuracy: 0.9813 - val_loss: 0.1113\n",
            "\u001b[1m313/313\u001b[0m \u001b[32m━━━━━━━━━━━━━━━━━━━━\u001b[0m\u001b[37m\u001b[0m \u001b[1m1s\u001b[0m 3ms/step - accuracy: 0.9764 - loss: 0.1202\n",
            "Adamax Test Accuracy: 0.9792\n"
          ]
        }
      ]
    }
  ]
}