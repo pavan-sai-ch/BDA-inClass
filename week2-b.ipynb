{
 "cells": [
  {
   "cell_type": "code",
   "id": "initial_id",
   "metadata": {
    "collapsed": true
   },
   "source": [
    "#1: Counter.count returns current value of count, whereas self._count is used to initialize the value of count\n",
    "#Instance count: 2, Class count: 3\n",
    "#Instance count: 1, Class count: 3\n",
    "\n",
    "#Counter.count() increases the global values whereas self._count increases the instance values\n"
   ],
   "outputs": [],
   "execution_count": null
  },
  {
   "metadata": {
    "ExecuteTime": {
     "end_time": "2025-07-09T19:47:23.180811Z",
     "start_time": "2025-07-09T19:47:23.178491Z"
    }
   },
   "cell_type": "code",
   "source": [
    "def sum_all(*args):  #issues is with *, without it, the function expects only one value as input\n",
    "    return sum(args)\n",
    "\n",
    "print(\"Sum of 1, 2, 3 is:\", sum_all(1, 2, 3))\n",
    "print(\"Sum of 4, 5, 6, 7 is:\", sum_all(4, 5, 6, 7))"
   ],
   "id": "e6840a3e1e3a51c8",
   "outputs": [
    {
     "name": "stdout",
     "output_type": "stream",
     "text": [
      "Sum of 1, 2, 3 is: 6\n",
      "Sum of 4, 5, 6, 7 is: 22\n"
     ]
    }
   ],
   "execution_count": 5
  },
  {
   "metadata": {
    "ExecuteTime": {
     "end_time": "2025-07-09T19:49:13.455428Z",
     "start_time": "2025-07-09T19:49:13.452642Z"
    }
   },
   "cell_type": "code",
   "source": [
    "#function returns the first index in a sorted array of names\n",
    "def first_word(args):\n",
    "    sorted_args = sorted(args)  #sorting the values\n",
    "    return sorted_args[0]  #returning the values\n",
    "\n",
    "\n",
    "students = ['Mary', 'Zelda', 'Jimmy', 'Jack', 'Bartholomew', 'Gertrude']\n",
    "print(first_word(students))  #printing the values"
   ],
   "id": "38992a9870a8619",
   "outputs": [
    {
     "name": "stdout",
     "output_type": "stream",
     "text": [
      "Bartholomew\n"
     ]
    }
   ],
   "execution_count": 7
  },
  {
   "metadata": {
    "ExecuteTime": {
     "end_time": "2025-07-09T19:57:47.600924Z",
     "start_time": "2025-07-09T19:57:47.596610Z"
    }
   },
   "cell_type": "code",
   "source": [
    "class Employee:\n",
    "    count_of_employees = 0  #counts the number of employees\n",
    "    salaries_of_employees = []  #array to store the salaries of employees\n",
    "\n",
    "    def __init__(self, name, family, salary, department):\n",
    "        self.name = name\n",
    "        self.family = family\n",
    "        self.salary = salary\n",
    "        self.department = department\n",
    "        Employee.count_of_employees += 1\n",
    "        Employee.salaries_of_employees.append(salary)\n",
    "\n",
    "    def average_salary(self):  # returns the average salaries of employees\n",
    "        if Employee.count_of_employees >= 1:\n",
    "            return sum(Employee.salaries_of_employees) / Employee.count_of_employees\n",
    "        else:\n",
    "            return 0\n",
    "\n",
    "\n",
    "class FullTimeEmployee(Employee):  #child class for Employee class\n",
    "    def __init__(self, name, family, salary, department):\n",
    "        super().__init__(name, family, salary, department)\n",
    "\n",
    "\n",
    "employee1 = FullTimeEmployee(\"John\", \"Smith\", 20000, \"IT\")\n",
    "employee2 = FullTimeEmployee(\"John\", \"David\", 30000, \"Sales\")\n",
    "employee3 = Employee(\"Alice\", \"Kennedy\", 50000, \"HR\")\n",
    "\n",
    "print(\"Count of employees: \", Employee.count_of_employees)  #calling member functions\n",
    "print(\"Average salaries of employees: \", employee1.average_salary().__round__(2))  #calling member functions\n"
   ],
   "id": "b6e07905ed61d9d",
   "outputs": [
    {
     "name": "stdout",
     "output_type": "stream",
     "text": [
      "3\n",
      "33333.33\n"
     ]
    }
   ],
   "execution_count": 12
  },
  {
   "metadata": {},
   "cell_type": "code",
   "outputs": [],
   "execution_count": null,
   "source": "",
   "id": "98bac74bb68d5281"
  }
 ],
 "metadata": {
  "kernelspec": {
   "display_name": "Python 3",
   "language": "python",
   "name": "python3"
  },
  "language_info": {
   "codemirror_mode": {
    "name": "ipython",
    "version": 2
   },
   "file_extension": ".py",
   "mimetype": "text/x-python",
   "name": "python",
   "nbconvert_exporter": "python",
   "pygments_lexer": "ipython2",
   "version": "2.7.6"
  }
 },
 "nbformat": 4,
 "nbformat_minor": 5
}
