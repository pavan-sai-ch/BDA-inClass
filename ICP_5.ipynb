{
 "nbformat": 4,
 "nbformat_minor": 0,
 "metadata": {
  "colab": {
   "provenance": []
  },
  "kernelspec": {
   "name": "python3",
   "display_name": "Python 3"
  },
  "language_info": {
   "name": "python"
  }
 },
 "cells": [
  {
   "cell_type": "code",
   "metadata": {
    "id": "nSc3IOaQNQu2",
    "ExecuteTime": {
     "end_time": "2025-07-21T18:35:00.020672Z",
     "start_time": "2025-07-21T18:34:56.244829Z"
    }
   },
   "source": [
    "from sklearn.datasets import load_iris\n",
    "from sklearn.model_selection import GridSearchCV, train_test_split\n",
    "from sklearn.preprocessing import StandardScaler\n",
    "from sklearn.decomposition import PCA\n",
    "from sklearn.svm import SVC\n",
    "from sklearn.pipeline import Pipeline\n",
    "\n",
    "# 1. Load dataset\n",
    "X, y = load_iris(return_X_y=True)\n",
    "X_train, X_test, y_train, y_test = train_test_split(X, y, test_size=0.2, random_state=42)\n",
    "\n",
    "# 2. Create pipeline\n",
    "pipe = Pipeline([\n",
    "    ('scaler', StandardScaler()),\n",
    "    ('pca', PCA()),\n",
    "    ('classifier', SVC())\n",
    "])\n",
    "\n",
    "# 3. Define parameter grid\n",
    "param_grid = {\n",
    "    'pca__n_components': [2, 3],\n",
    "    'classifier__C': [0.1, 1, 10],\n",
    "    'classifier__kernel': ['linear', 'rbf']\n",
    "}\n",
    "\n",
    "# 4. GridSearchCV\n",
    "grid = GridSearchCV(pipe, param_grid)\n",
    "grid.fit(X_train, y_train)\n",
    "\n",
    "# 5. Results\n",
    "print(\"Best parameters found:\", grid.best_params_)\n",
    "print(\"Best cross-validation score: {:.2f}\".format(grid.best_score_))\n",
    "print(\"Test set score: {:.2f}\".format(grid.score(X_test, y_test)))\n"
   ],
   "outputs": [
    {
     "name": "stdout",
     "output_type": "stream",
     "text": [
      "Best parameters found: {'classifier__C': 0.1, 'classifier__kernel': 'linear', 'pca__n_components': 3}\n",
      "Best cross-validation score: 0.96\n",
      "Test set score: 1.00\n"
     ]
    }
   ],
   "execution_count": 1
  },
  {
   "cell_type": "markdown",
   "source": [
    "Check for 3 fold, 5 fold and 7 fold cross validation\n",
    "\n",
    "Replace classifier, SVC with RandomForestClassifier and LogisticRegression, Perceptron, knn .\n",
    "\n",
    "Update the param_grid accordingly (e.g., for RandomForestClassifier, use n_estimators, max_depth, etc.)\n",
    "\n",
    "Also replace Gridsearch with randomnsearch function.\n",
    "\n",
    "Relplace with with your own csv dataset using code below:"
   ],
   "metadata": {
    "id": "tqJp7J-jNbu6"
   }
  },
  {
   "cell_type": "code",
   "source": [
    "import pandas as pd\n",
    "from sklearn.model_selection import train_test_split, RandomizedSearchCV\n",
    "from sklearn.ensemble import RandomForestClassifier\n",
    "from sklearn.linear_model import LogisticRegression, Perceptron\n",
    "from sklearn.neighbors import KNeighborsClassifier\n",
    "from scipy.stats import randint\n",
    "from sklearn.compose import ColumnTransformer\n",
    "from sklearn.preprocessing import OneHotEncoder\n",
    "from sklearn.impute import SimpleImputer\n",
    "data = pd.read_csv(\"./datasets/sports_betting_predictive_analysis.csv\")\n",
    "X = data.drop([\"Predicted_Winner\", 'Match_ID', 'Date'], axis=1)\n",
    "y = data[\"Predicted_Winner\"]\n"
   ],
   "metadata": {
    "id": "aUipqQf8Pcao",
    "ExecuteTime": {
     "end_time": "2025-07-21T19:17:48.523183Z",
     "start_time": "2025-07-21T19:17:48.508082Z"
    }
   },
   "outputs": [],
   "execution_count": 9
  },
  {
   "metadata": {
    "ExecuteTime": {
     "end_time": "2025-07-21T19:22:32.667479Z",
     "start_time": "2025-07-21T19:22:32.657191Z"
    }
   },
   "cell_type": "code",
   "source": [
    "#splitting the data\n",
    "\n",
    "categorical_cols = X.select_dtypes(include='object').columns.tolist()\n",
    "numerical_cols = X.select_dtypes(include=['int64', 'float64']).columns.tolist()\n",
    "\n",
    "numeric_pipeline = Pipeline([\n",
    "    ('imputer', SimpleImputer(strategy='mean')),\n",
    "    ('scaler', StandardScaler())\n",
    "])\n",
    "\n",
    "categorical_pipeline = Pipeline([\n",
    "    ('imputer', SimpleImputer(strategy='most_frequent')),\n",
    "    ('encoder', OneHotEncoder(handle_unknown='ignore'))\n",
    "])\n",
    "\n",
    "preprocessor = ColumnTransformer([\n",
    "    ('num', numeric_pipeline, numerical_cols),\n",
    "    ('cat', categorical_pipeline, categorical_cols)\n",
    "])\n",
    "\n"
   ],
   "outputs": [],
   "execution_count": 14
  },
  {
   "metadata": {
    "ExecuteTime": {
     "end_time": "2025-07-21T19:26:54.676107Z",
     "start_time": "2025-07-21T19:22:40.954684Z"
    }
   },
   "cell_type": "code",
   "source": [
    "\n",
    "X_train, X_test, y_train, y_test = train_test_split(X, y, test_size=0.2, random_state=42)\n",
    "models = {\n",
    "    \"RandomForest\": (RandomForestClassifier(), {\n",
    "        'classifier__n_estimators': randint(50, 200),\n",
    "        'classifier__max_depth': randint(3, 20)\n",
    "    }),\n",
    "    \"LogisticRegression\": (LogisticRegression(max_iter=1000), {\n",
    "        'classifier__C': [0.01, 0.1, 1, 10],\n",
    "        'classifier__penalty': ['l2']\n",
    "    }),\n",
    "    \"Perceptron\": (Perceptron(max_iter=1000), {\n",
    "        'classifier__penalty': ['l2', 'elasticnet'],\n",
    "        'classifier__alpha': [0.0001, 0.001, 0.01]\n",
    "    }),\n",
    "    \"KNN\": (KNeighborsClassifier(), {\n",
    "        'classifier__n_neighbors': [3, 5, 7, 9],\n",
    "        'classifier__weights': ['uniform', 'distance']\n",
    "    })\n",
    "}\n",
    "\n",
    "for cv_fold in [3, 5, 7]:\n",
    "    print(f\"\\n=== Cross-validation: {cv_fold}-fold ===\")\n",
    "    for name, (clf, param_dist) in models.items():\n",
    "        pipe = Pipeline([\n",
    "            ('preprocessor', preprocessor),\n",
    "            ('pca', PCA()),\n",
    "            ('classifier', clf)\n",
    "        ])\n",
    "        search = RandomizedSearchCV(pipe, {\n",
    "            'pca__n_components': [2, 3, 5],\n",
    "            **param_dist\n",
    "        }, n_iter=10, cv=cv_fold, random_state=42)\n",
    "        search.fit(X_train, y_train)\n",
    "        print(f\"\\n{name} | Best Params: {search.best_params_}\")\n",
    "        print(f\"{name} | CV Score: {search.best_score_:.2f}\")\n",
    "        print(f\"{name} | Test Score: {search.score(X_test, y_test):.2f}\")"
   ],
   "outputs": [
    {
     "name": "stdout",
     "output_type": "stream",
     "text": [
      "\n",
      "=== Cross-validation: 3-fold ===\n"
     ]
    },
    {
     "name": "stderr",
     "output_type": "stream",
     "text": [
      "/opt/anaconda3/envs/MyEnvironment/lib/python3.12/site-packages/sklearn/model_selection/_split.py:805: UserWarning: The least populated class in y has only 1 members, which is less than n_splits=3.\n",
      "  warnings.warn(\n"
     ]
    },
    {
     "name": "stdout",
     "output_type": "stream",
     "text": [
      "\n",
      "RandomForest | Best Params: {'classifier__max_depth': 4, 'classifier__n_estimators': 137, 'pca__n_components': 3}\n",
      "RandomForest | CV Score: 0.14\n",
      "RandomForest | Test Score: 0.11\n"
     ]
    },
    {
     "name": "stderr",
     "output_type": "stream",
     "text": [
      "/opt/anaconda3/envs/MyEnvironment/lib/python3.12/site-packages/sklearn/model_selection/_split.py:805: UserWarning: The least populated class in y has only 1 members, which is less than n_splits=3.\n",
      "  warnings.warn(\n"
     ]
    },
    {
     "name": "stdout",
     "output_type": "stream",
     "text": [
      "\n",
      "LogisticRegression | Best Params: {'pca__n_components': 2, 'classifier__penalty': 'l2', 'classifier__C': 0.01}\n",
      "LogisticRegression | CV Score: 0.14\n",
      "LogisticRegression | Test Score: 0.11\n"
     ]
    },
    {
     "name": "stderr",
     "output_type": "stream",
     "text": [
      "/opt/anaconda3/envs/MyEnvironment/lib/python3.12/site-packages/sklearn/model_selection/_split.py:805: UserWarning: The least populated class in y has only 1 members, which is less than n_splits=3.\n",
      "  warnings.warn(\n"
     ]
    },
    {
     "name": "stdout",
     "output_type": "stream",
     "text": [
      "\n",
      "Perceptron | Best Params: {'pca__n_components': 5, 'classifier__penalty': 'elasticnet', 'classifier__alpha': 0.0001}\n",
      "Perceptron | CV Score: 0.09\n",
      "Perceptron | Test Score: 0.01\n"
     ]
    },
    {
     "name": "stderr",
     "output_type": "stream",
     "text": [
      "/opt/anaconda3/envs/MyEnvironment/lib/python3.12/site-packages/sklearn/model_selection/_split.py:805: UserWarning: The least populated class in y has only 1 members, which is less than n_splits=3.\n",
      "  warnings.warn(\n"
     ]
    },
    {
     "name": "stdout",
     "output_type": "stream",
     "text": [
      "\n",
      "KNN | Best Params: {'pca__n_components': 5, 'classifier__weights': 'uniform', 'classifier__n_neighbors': 5}\n",
      "KNN | CV Score: 0.11\n",
      "KNN | Test Score: 0.09\n",
      "\n",
      "=== Cross-validation: 5-fold ===\n"
     ]
    },
    {
     "name": "stderr",
     "output_type": "stream",
     "text": [
      "/opt/anaconda3/envs/MyEnvironment/lib/python3.12/site-packages/sklearn/model_selection/_split.py:805: UserWarning: The least populated class in y has only 1 members, which is less than n_splits=5.\n",
      "  warnings.warn(\n"
     ]
    },
    {
     "name": "stdout",
     "output_type": "stream",
     "text": [
      "\n",
      "RandomForest | Best Params: {'classifier__max_depth': 4, 'classifier__n_estimators': 137, 'pca__n_components': 3}\n",
      "RandomForest | CV Score: 0.14\n",
      "RandomForest | Test Score: 0.11\n"
     ]
    },
    {
     "name": "stderr",
     "output_type": "stream",
     "text": [
      "/opt/anaconda3/envs/MyEnvironment/lib/python3.12/site-packages/sklearn/model_selection/_split.py:805: UserWarning: The least populated class in y has only 1 members, which is less than n_splits=5.\n",
      "  warnings.warn(\n"
     ]
    },
    {
     "name": "stdout",
     "output_type": "stream",
     "text": [
      "\n",
      "LogisticRegression | Best Params: {'pca__n_components': 2, 'classifier__penalty': 'l2', 'classifier__C': 0.01}\n",
      "LogisticRegression | CV Score: 0.14\n",
      "LogisticRegression | Test Score: 0.11\n"
     ]
    },
    {
     "name": "stderr",
     "output_type": "stream",
     "text": [
      "/opt/anaconda3/envs/MyEnvironment/lib/python3.12/site-packages/sklearn/model_selection/_split.py:805: UserWarning: The least populated class in y has only 1 members, which is less than n_splits=5.\n",
      "  warnings.warn(\n"
     ]
    },
    {
     "name": "stdout",
     "output_type": "stream",
     "text": [
      "\n",
      "Perceptron | Best Params: {'pca__n_components': 5, 'classifier__penalty': 'elasticnet', 'classifier__alpha': 0.0001}\n",
      "Perceptron | CV Score: 0.08\n",
      "Perceptron | Test Score: 0.01\n"
     ]
    },
    {
     "name": "stderr",
     "output_type": "stream",
     "text": [
      "/opt/anaconda3/envs/MyEnvironment/lib/python3.12/site-packages/sklearn/model_selection/_split.py:805: UserWarning: The least populated class in y has only 1 members, which is less than n_splits=5.\n",
      "  warnings.warn(\n"
     ]
    },
    {
     "name": "stdout",
     "output_type": "stream",
     "text": [
      "\n",
      "KNN | Best Params: {'pca__n_components': 5, 'classifier__weights': 'uniform', 'classifier__n_neighbors': 5}\n",
      "KNN | CV Score: 0.11\n",
      "KNN | Test Score: 0.09\n",
      "\n",
      "=== Cross-validation: 7-fold ===\n"
     ]
    },
    {
     "name": "stderr",
     "output_type": "stream",
     "text": [
      "/opt/anaconda3/envs/MyEnvironment/lib/python3.12/site-packages/sklearn/model_selection/_split.py:805: UserWarning: The least populated class in y has only 1 members, which is less than n_splits=7.\n",
      "  warnings.warn(\n"
     ]
    },
    {
     "name": "stdout",
     "output_type": "stream",
     "text": [
      "\n",
      "RandomForest | Best Params: {'classifier__max_depth': 4, 'classifier__n_estimators': 137, 'pca__n_components': 3}\n",
      "RandomForest | CV Score: 0.14\n",
      "RandomForest | Test Score: 0.11\n"
     ]
    },
    {
     "name": "stderr",
     "output_type": "stream",
     "text": [
      "/opt/anaconda3/envs/MyEnvironment/lib/python3.12/site-packages/sklearn/model_selection/_split.py:805: UserWarning: The least populated class in y has only 1 members, which is less than n_splits=7.\n",
      "  warnings.warn(\n"
     ]
    },
    {
     "name": "stdout",
     "output_type": "stream",
     "text": [
      "\n",
      "LogisticRegression | Best Params: {'pca__n_components': 2, 'classifier__penalty': 'l2', 'classifier__C': 0.01}\n",
      "LogisticRegression | CV Score: 0.14\n",
      "LogisticRegression | Test Score: 0.11\n"
     ]
    },
    {
     "name": "stderr",
     "output_type": "stream",
     "text": [
      "/opt/anaconda3/envs/MyEnvironment/lib/python3.12/site-packages/sklearn/model_selection/_split.py:805: UserWarning: The least populated class in y has only 1 members, which is less than n_splits=7.\n",
      "  warnings.warn(\n"
     ]
    },
    {
     "name": "stdout",
     "output_type": "stream",
     "text": [
      "\n",
      "Perceptron | Best Params: {'pca__n_components': 5, 'classifier__penalty': 'l2', 'classifier__alpha': 0.0001}\n",
      "Perceptron | CV Score: 0.07\n",
      "Perceptron | Test Score: 0.04\n"
     ]
    },
    {
     "name": "stderr",
     "output_type": "stream",
     "text": [
      "/opt/anaconda3/envs/MyEnvironment/lib/python3.12/site-packages/sklearn/model_selection/_split.py:805: UserWarning: The least populated class in y has only 1 members, which is less than n_splits=7.\n",
      "  warnings.warn(\n"
     ]
    },
    {
     "name": "stdout",
     "output_type": "stream",
     "text": [
      "\n",
      "KNN | Best Params: {'pca__n_components': 5, 'classifier__weights': 'uniform', 'classifier__n_neighbors': 5}\n",
      "KNN | CV Score: 0.11\n",
      "KNN | Test Score: 0.09\n"
     ]
    }
   ],
   "execution_count": 15
  }
 ]
}
